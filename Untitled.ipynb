{
 "cells": [
  {
   "cell_type": "markdown",
   "id": "43f5d882",
   "metadata": {},
   "source": [
    "# Logistic_Regression Algotihm"
   ]
  },
  {
   "cell_type": "code",
   "execution_count": 1,
   "id": "7e1b3b98",
   "metadata": {},
   "outputs": [
    {
     "name": "stdout",
     "output_type": "stream",
     "text": [
      "logisticregression train score :  0.9340659340659341\n",
      "logisticregression test score :  0.9736842105263158\n",
      "num  itre used :  [21]\n",
      "\n",
      "\n",
      "\n",
      "y_prod :  [0 0 1 0 1]\n",
      "y_pred_prob :  [[9.76108398e-01 2.38916024e-02]\n",
      " [9.99999416e-01 5.84417371e-07]\n",
      " [5.51047441e-02 9.44895256e-01]\n",
      " [9.99999979e-01 2.08356556e-08]\n",
      " [4.05090799e-01 5.94909201e-01]]\n",
      "\n",
      "\n",
      "\n",
      "Classification Report is :                precision    recall  f1-score   support\n",
      "\n",
      "           0       0.97      0.95      0.96        39\n",
      "           1       0.97      0.99      0.98        75\n",
      "\n",
      "    accuracy                           0.97       114\n",
      "   macro avg       0.97      0.97      0.97       114\n",
      "weighted avg       0.97      0.97      0.97       114\n",
      "\n",
      "\n",
      "\n",
      "\n",
      "Confusion Matrix is : \n",
      " [[37  2]\n",
      " [ 1 74]]\n"
     ]
    },
    {
     "data": {
      "image/png": "[encoded data removed]",
      "text/plain": [
       "<Figure size 432x288 with 2 Axes>"
      ]
     },
     "metadata": {
      "needs_background": "light"
     },
     "output_type": "display_data"
    }
   ],
   "source": [
    "#import lidrary\n",
    "from sklearn.datasets import load_breast_cancer\n",
    "from sklearn.linear_model import LogisticRegression\n",
    "from sklearn.model_selection import train_test_split\n",
    "from sklearn.metrics import confusion_matrix\n",
    "from sklearn.metrics import classification_report\n",
    "import seaborn as sns \n",
    "import matplotlib.pyplot as plt\n",
    "\n",
    "\n",
    "\n",
    "#split data to x,y traing,testing\n",
    "ld=load_breast_cancer()\n",
    "X=ld.data\n",
    "y=ld.target\n",
    "X_train,X_test,y_train,y_test=train_test_split(X,y,test_size=.2,random_state=44,shuffle=True)\n",
    "\n",
    "#fit sample by logistic regression\n",
    "logi=LogisticRegression(penalty='l2',solver='liblinear',C=.1,max_iter=1000)\n",
    "logi.fit(X_train,y_train)\n",
    "\n",
    "#Calculating Details(score,max_iter)\n",
    "print(\"logisticregression train score : \",logi.score(X_train,y_train))\n",
    "print(\"logisticregression test score : \",logi.score(X_test,y_test))\n",
    "print(\"num  itre used : \",logi.n_iter_)\n",
    "print(\"\\n\\n\")\n",
    "\n",
    "#Calculating prediction\n",
    "y_pred=logi.predict(X_test)\n",
    "y_pred_prob=logi.predict_proba(X_test)\n",
    "print(\"y_prod : \",y_pred[:5])\n",
    "print(\"y_pred_prob : \",y_pred_prob[:5])\n",
    "print(\"\\n\\n\")\n",
    "\n",
    "#Calculating classification_report\n",
    "ClassificationReport = classification_report(y_test,y_pred)\n",
    "print('Classification Report is : ', ClassificationReport )\n",
    "print(\"\\n\\n\")\n",
    "\n",
    "#Calculating Confusion Matrix\n",
    "CM = confusion_matrix(y_test, y_pred)\n",
    "print('Confusion Matrix is : \\n', CM)\n",
    "\n",
    "# drawing confusion matrix\n",
    "sns.heatmap(CM, center = True)\n",
    "plt.show()\n"
   ]
  },
  {
   "cell_type": "markdown",
   "id": "db026663",
   "metadata": {},
   "source": [
    "# SVM Algorithm (SVR,SVM)\n"
   ]
  },
  {
   "cell_type": "markdown",
   "id": "8753f3f8",
   "metadata": {},
   "source": [
    "# SVR \n"
   ]
  },
  {
   "cell_type": "code",
   "execution_count": 5,
   "id": "afb6cb77",
   "metadata": {},
   "outputs": [
    {
     "name": "stdout",
     "output_type": "stream",
     "text": [
      "traing_score :  0.8962964822148594\n",
      "testing_score :  0.8859215623318429\n",
      "y_pred :  [1.07100635 2.1130197  0.00364097 0.84883505 1.29899766]\n",
      "\n",
      "\n",
      "\n",
      "mean_absolute_error :  0.19439287481952613\n",
      "mean_sqared_error :  0.06012004083900559\n",
      "median_absolute_error :  0.19439287481952613\n"
     ]
    }
   ],
   "source": [
    "# SVR\n",
    "from sklearn.datasets import load_wine\n",
    "#load data\n",
    "wine=load_wine()\n",
    "X=wine.data\n",
    "y=wine.target\n",
    "\n",
    "X\n",
    "y\n",
    "#split data train and test\n",
    "from sklearn.model_selection import train_test_split\n",
    "X_train,X_test,y_train,y_test=train_test_split(X,y,random_state=20,test_size=.2)\n",
    "\n",
    "# Fitting Simple svr to the Training set \n",
    "from sklearn.svm import SVR\n",
    "svr_model=SVR(kernel='linear',C=.1,epsilon=.01) \n",
    "#calculate same details\n",
    "svr_model.fit(X_train,y_train)\n",
    "y_pred=svr_model.predict(X_test)\n",
    "print(\"traing_score : \",svr_model.score(X_train,y_train))\n",
    "print(\"testing_score : \",svr_model.score(X_test,y_test))\n",
    "print(\"y_pred : \",y_pred[:5])\n",
    "print(\"\\n\\n\")\n",
    "\n",
    "#metrcis \n",
    "from sklearn.metrics import mean_absolute_error\n",
    "mae=mean_absolute_error(y_test,y_pred)\n",
    "from sklearn.metrics import mean_squared_error\n",
    "mse=mean_squared_error(y_test,y_pred)\n",
    "from sklearn.metrics import median_absolute_error\n",
    "med=mean_absolute_error(y_test,y_pred)\n",
    "\n",
    "print(\"mean_absolute_error : \",mae)\n",
    "print(\"mean_sqared_error : \",mse)\n",
    "print(\"median_absolute_error : \",med)\n"
   ]
  },
  {
   "cell_type": "markdown",
   "id": "5c1cd48b",
   "metadata": {},
   "source": [
    "# SVC"
   ]
  },
  {
   "cell_type": "code",
   "execution_count": null,
   "id": "a5e63386",
   "metadata": {},
   "outputs": [],
   "source": [
    "# import library\n",
    "from sklearn.datasets import load_breast_cancer\n",
    "from sklearn.svm import SVC\n",
    "from sklearn.metrics import classification_report\n",
    "from sklearn.metrics import confusion_matrix\n",
    "from sklearn.model_selection import train_test_split\n",
    "import matplotlib.pyplot as plt\n",
    "import seaborn as sns\n",
    "\n",
    "#load and split data\n",
    "breastcancer=load_breast_cancer()\n",
    "X=breastcancer.data\n",
    "y=breastcancer.target\n",
    "X_train,X_test,y_train,y_test=train_test_split(X,y,test_size=.35,random_state=44)\n",
    "\n",
    "#svc in a sample data\n",
    "svc=SVC(C=1,kernel='rbf',max_iter=70,random_state=44,gamma=\"auto\")\n",
    "svc.fit(X_train,y_train)\n",
    "\n",
    "y_pred=svc.predict(X_test)\n",
    "\n",
    "print(\"traing score : \",svc.score(X_train,y_train))\n",
    "print(\"testing score : \",svc.score(X_test,y_test))\n",
    "\n",
    "cr=classification_report(y_test,y_pred)\n",
    "print(\"classification_report : \\n\\n\",cr)\n",
    "\n",
    "cm=confusion_matrix(y_test,y_pred)\n",
    "print(cm)\n",
    "sns.heatmap(cm,center=True)\n",
    "plt.show()"
   ]
  },
  {
   "cell_type": "markdown",
   "id": "45187173",
   "metadata": {},
   "source": [
    "# Decision tree(regrosser,classification)"
   ]
  },
  {
   "cell_type": "markdown",
   "id": "7edb0ba6",
   "metadata": {},
   "source": [
    "# regrossor"
   ]
  },
  {
   "cell_type": "code",
   "execution_count": null,
   "id": "f5617722",
   "metadata": {},
   "outputs": [],
   "source": [
    "#import library\n",
    "from sklearn.datasets import load_breast_cancer\n",
    "from sklearn.tree import DecisionTreeRegressor\n",
    "from sklearn.model_selection import train_test_split\n",
    "from sklearn.preprocessing import PolynomialFeatures\n",
    "from sklearn.metrics import mean_absolute_error\n",
    "from sklearn.metrics import mean_squared_error\n",
    "from sklearn.metrics import median_absolute_error\n",
    "\n",
    "#load data\n",
    "breastcancerr=load_breast_cancer()\n",
    "X=breastcancer.data\n",
    "y=breastcancer.target\n",
    "print(\"x_shape\",X.shape)\n",
    "\n",
    "#increas data dy PolynomialFeatures\n",
    "poly=PolynomialFeatures(degree=3)\n",
    "X_poly=poly.fit_transform(X)\n",
    "print('X_poly : ',X_poly.shape)\n",
    "\n",
    "#split data to traing and testing\n",
    "X_train,X_test,y_train,y_test=train_test_split(X_poly,y,test_size=.2,random_state=44)\n",
    "treergeressor=DecisionTreeRegressor(max_depth=10,random_state=0)\n",
    "treergeressor.fit(X_train,y_train)\n",
    "y_pred=treergeressor.predict(X_test)\n",
    "mean=mean_absolute_error(y_test,y_pred)\n",
    "meansquer=mean_squared_error(y_test,y_pred)\n",
    "median=median_absolute_error(y_test,y_pred)\n",
    "\n",
    "#Calculating Details (mean,mean square, median,score) for linear regression\n",
    "print(\"traing score : \",treergeressor.score(X_train,y_train))\n",
    "print(\"testing score : \",treergeressor.score(X_test,y_test))\n",
    "print(\"mean : \",mean)\n",
    "print(\"mean square : \",meansquer)\n",
    "print(\"median : \",median)"
   ]
  },
  {
   "cell_type": "markdown",
   "id": "37b2fcd7",
   "metadata": {},
   "source": [
    "# classifiar"
   ]
  },
  {
   "cell_type": "code",
   "execution_count": null,
   "id": "be4ad339",
   "metadata": {},
   "outputs": [],
   "source": [
    "from sklearn.datasets import load_breast_cancer\n",
    "from sklearn.tree import DecisionTreeClassifier\n",
    "from sklearn.model_selection import train_test_split\n",
    "from sklearn.preprocessing import PolynomialFeatures\n",
    "from sklearn.metrics import confusion_matrix\n",
    "from sklearn.metrics import classification_report\n",
    "import matplotlib.pyplot as plt\n",
    "import seaborn as sns\n",
    "\n",
    "#load data\n",
    "breastcancerr=load_breast_cancer()\n",
    "X=breastcancer.data\n",
    "y=breastcancer.target\n",
    "\n",
    "#split data to traing and testing\n",
    "X_train,X_test,y_train,y_test=train_test_split(X,y,test_size=.33,random_state=44)\n",
    "treeclassifiar=DecisionTreeClassifier(criterion=\"gini\",max_depth=10,random_state=44)\n",
    "treeclassifiar.fit(X_train,y_train)\n",
    "y_pred=treeclassifiar.predict(X_test)\n",
    "\n",
    "#Calculating Details (score) for linear regression\n",
    "print(\"traing score : \",treeclassifiar.score(X_train,y_train))\n",
    "print(\"testing score : \",treeclassifiar.score(X_test,y_test))\n",
    "\n",
    "cr=classification_report(y_test,y_pred)\n",
    "print(\"classification_report : \",cr)\n",
    "cm=confusion_matrix(y_test,y_pred)\n",
    "print(cm)\n",
    "sns.heatmap(cm,center=True)\n",
    "plt.show()"
   ]
  },
  {
   "cell_type": "markdown",
   "id": "992c7214",
   "metadata": {},
   "source": [
    "# KNN "
   ]
  },
  {
   "cell_type": "markdown",
   "id": "c1bd9e6b",
   "metadata": {},
   "source": [
    "# KNN Regression"
   ]
  },
  {
   "cell_type": "code",
   "execution_count": null,
   "id": "293b94b9",
   "metadata": {},
   "outputs": [],
   "source": [
    "#import library\n",
    "from sklearn.datasets import load_breast_cancer\n",
    "from sklearn.neighbors import KNeighborsRegressor\n",
    "from sklearn.model_selection import train_test_split\n",
    "from sklearn.metrics import mean_absolute_error\n",
    "from sklearn.metrics import mean_squared_error\n",
    "from sklearn.metrics import median_absolute_error\n",
    "\n",
    "#load data\n",
    "diabetes=load_breast_cancer()\n",
    "X=diabetes.data\n",
    "y=diabetes.target\n",
    "\n",
    "#split data to train and test\n",
    "X_test,X_train,y_test,y_train=train_test_split(X,y,test_size=.33,random_state=30)\n",
    "\n",
    "#KNeighborsRegressor in a sample data\n",
    "for i in range(2,13):\n",
    "    knr=KNeighborsRegressor(n_neighbors=i,weights=\"distance\",algorithm=\"ball_tree\")#n_neighbors=5,weights=\"distance\",algorithm=\"auto\"\n",
    "    knr.fit(X_train,y_train)\n",
    "    print(i)\n",
    "    print(\"knn regression score :\",knr.score(X_train,y_train))\n",
    "    print(\"knn regression score :\",knr.score(X_test,y_test))\n",
    "    print(\"---------------------------------------\")\n",
    "#calculating score and y_predict\n",
    "y_pred=knr.predict(X_test)\n",
    "print(\"knn regression y_pred :\",y_pred[:5])\n",
    "print(\"knn regression y_test :\",y_test[:5])\n",
    "\n",
    "#calculating mean and median\n",
    "mean=mean_absolute_error(y_test,y_pred)\n",
    "meansquer=mean_squared_error(y_test,y_pred)\n",
    "median=median_absolute_error(y_test,y_pred)\n",
    "print(\"mean : \",mean)\n",
    "print(\"mean square : \",meansquer)\n",
    "print(\"median : \",median)"
   ]
  },
  {
   "cell_type": "markdown",
   "id": "180bc346",
   "metadata": {},
   "source": [
    "# KNN Classification"
   ]
  },
  {
   "cell_type": "code",
   "execution_count": null,
   "id": "ca6d4da6",
   "metadata": {},
   "outputs": [],
   "source": [
    "#import library\n",
    "from sklearn.datasets import load_breast_cancer\n",
    "from sklearn.neighbors import KNeighborsClassifier\n",
    "from sklearn.model_selection import train_test_split\n",
    "from sklearn.metrics import confusion_matrix,classification_report\n",
    "import matplotlib.pyplot as plt\n",
    "import seaborn as sns\n",
    "\n",
    "#load data\n",
    "diabetes=load_breast_cancer()\n",
    "X=diabetes.data\n",
    "y=diabetes.target\n",
    "\n",
    "#split data to train and test\n",
    "X_test,X_train,y_test,y_train=train_test_split(X,y,test_size=.33,random_state=33)\n",
    "\n",
    "#KNeighborsRegressor in a sample data\n",
    "for i in range(2,8):\n",
    "    knr=KNeighborsClassifier(n_neighbors=i,weights=\"distance\",algorithm=\"auto\")#n_neighbors=5,weights=\"distance\",algorithm=\"auto\"\n",
    "    knr.fit(X_train,y_train)\n",
    "#calculating score and y_predict\n",
    "    y_pred=knr.predict(X_test)\n",
    "    print(\"K :\",i)\n",
    "    print(\"knn regression score_train :\",knr.score(X_train,y_train))\n",
    "    print(\"knn regression score _test:\",knr.score(X_test,y_test))\n",
    "    print(\"----------------------------------\")\n",
    "print(\"knn regression y_pred :\",y_pred[:5])\n",
    "print(\"knn regression y_test :\",y_test[:5])\n",
    "\n",
    "#calculating mean and median\n",
    "cm=confusion_matrix(y_test,y_pred)\n",
    "report=classification_report(y_test,y_pred)\n",
    "print(\"classification_report : \\n\",report)\n",
    "print(\"confusion matrix :\\n \",cm)\n",
    "sns.heatmap(cm,center=True)\n",
    "plt.show()\n"
   ]
  },
  {
   "cell_type": "markdown",
   "id": "3f93b014",
   "metadata": {},
   "source": [
    "# Naive Bayes\n"
   ]
  },
  {
   "cell_type": "markdown",
   "id": "622a2072",
   "metadata": {},
   "source": [
    "# Gussian NB"
   ]
  },
  {
   "cell_type": "code",
   "execution_count": 2,
   "id": "185de128",
   "metadata": {},
   "outputs": [
    {
     "name": "stdout",
     "output_type": "stream",
     "text": [
      "GaussianNB score : 0.9343832020997376\n",
      "GaussianNB score : 0.9308510638297872\n",
      "classification_report : \n",
      "               precision    recall  f1-score   support\n",
      "\n",
      "           0       0.90      0.91      0.91        68\n",
      "           1       0.95      0.94      0.95       120\n",
      "\n",
      "    accuracy                           0.93       188\n",
      "   macro avg       0.92      0.93      0.93       188\n",
      "weighted avg       0.93      0.93      0.93       188\n",
      "\n",
      "confusion matrix :\n",
      "  [[ 62   6]\n",
      " [  7 113]]\n"
     ]
    },
    {
     "data": {
      "image/png": "[encoded data removed]",
      "text/plain": [
       "<Figure size 432x288 with 2 Axes>"
      ]
     },
     "metadata": {
      "needs_background": "light"
     },
     "output_type": "display_data"
    }
   ],
   "source": [
    "from sklearn.datasets import load_breast_cancer\n",
    "from sklearn.naive_bayes import GaussianNB\n",
    "from sklearn.model_selection import train_test_split\n",
    "from sklearn.metrics import confusion_matrix\n",
    "from sklearn.metrics import classification_report\n",
    "import seaborn as sns\n",
    "import matplotlib.pyplot as plt\n",
    "\n",
    "breastcancer=load_breast_cancer()\n",
    "X=breastcancer.data\n",
    "y=breastcancer.target\n",
    "\n",
    "X_train,X_test,y_train,y_test=train_test_split(X,y,test_size=.33,random_state=44)\n",
    "\n",
    "gaussian=GaussianNB()\n",
    "gaussian.fit(X_train,y_train)\n",
    "y_pred=gaussian.predict(X_test)\n",
    "print(\"GaussianNB score :\",gaussian.score(X_train,y_train))\n",
    "print(\"GaussianNB score :\",gaussian.score(X_test,y_test))\n",
    "cm=confusion_matrix(y_test,y_pred)\n",
    "report=classification_report(y_test,y_pred)\n",
    "print(\"classification_report : \\n\",report)\n",
    "print(\"confusion matrix :\\n \",cm)\n",
    "sns.heatmap(cm,center=True)\n",
    "plt.show()"
   ]
  },
  {
   "cell_type": "markdown",
   "id": "c02e1f85",
   "metadata": {},
   "source": [
    "# MultinomialNB"
   ]
  },
  {
   "cell_type": "code",
   "execution_count": 7,
   "id": "4c51292c",
   "metadata": {},
   "outputs": [
    {
     "name": "stdout",
     "output_type": "stream",
     "text": [
      "MultinomialNB score : 0.8713910761154856\n",
      "MultinomialNB score : 0.9414893617021277\n",
      "classification_report : \n",
      "               precision    recall  f1-score   support\n",
      "\n",
      "           0       0.94      0.90      0.92        68\n",
      "           1       0.94      0.97      0.95       120\n",
      "\n",
      "    accuracy                           0.94       188\n",
      "   macro avg       0.94      0.93      0.94       188\n",
      "weighted avg       0.94      0.94      0.94       188\n",
      "\n",
      "confusion matrix :\n",
      "  [[ 61   7]\n",
      " [  4 116]]\n"
     ]
    },
    {
     "data": {
      "image/png": "[encoded data removed]",
      "text/plain": [
       "<Figure size 432x288 with 2 Axes>"
      ]
     },
     "metadata": {
      "needs_background": "light"
     },
     "output_type": "display_data"
    }
   ],
   "source": [
    "from sklearn.datasets import load_breast_cancer\n",
    "from sklearn.naive_bayes import MultinomialNB\n",
    "from sklearn.model_selection import train_test_split\n",
    "from sklearn.metrics import confusion_matrix\n",
    "from sklearn.metrics import classification_report\n",
    "import seaborn as sns\n",
    "import matplotlib.pyplot as plt\n",
    "\n",
    "breastcancer=load_breast_cancer()\n",
    "X=breastcancer.data\n",
    "y=breastcancer.target\n",
    "\n",
    "X_train,X_test,y_train,y_test=train_test_split(X,y,test_size=.33,random_state=44)\n",
    "\n",
    "multinomialNB=MultinomialNB(alpha=1)\n",
    "multinomialNB.fit(X_train,y_train)\n",
    "y_pred=multinomialNB.predict(X_test)\n",
    "print(\"MultinomialNB score :\",multinomialNB.score(X_train,y_train))\n",
    "print(\"MultinomialNB score :\",multinomialNB.score(X_test,y_test))\n",
    "cm=confusion_matrix(y_test,y_pred)\n",
    "report=classification_report(y_test,y_pred)\n",
    "print(\"classification_report : \\n\",report)\n",
    "print(\"confusion matrix :\\n \",cm)\n",
    "sns.heatmap(cm,center=True)\n",
    "plt.show()"
   ]
  },
  {
   "cell_type": "code",
   "execution_count": null,
   "id": "88bf34ad",
   "metadata": {},
   "outputs": [],
   "source": []
  }
 ],
 "metadata": {
  "kernelspec": {
   "display_name": "Python 3 (ipykernel)",
   "language": "python",
   "name": "python3"
  },
  "language_info": {
   "codemirror_mode": {
    "name": "ipython",
    "version": 3
   },
   "file_extension": ".py",
   "mimetype": "text/x-python",
   "name": "python",
   "nbconvert_exporter": "python",
   "pygments_lexer": "ipython3",
   "version": "3.9.12"
  }
 },
 "nbformat": 4,
 "nbformat_minor": 5
}
